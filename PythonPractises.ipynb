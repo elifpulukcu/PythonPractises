{
  "nbformat": 4,
  "nbformat_minor": 0,
  "metadata": {
    "colab": {
      "provenance": [],
      "collapsed_sections": []
    },
    "kernelspec": {
      "name": "python3",
      "display_name": "Python 3"
    },
    "language_info": {
      "name": "python"
    }
  },
  "cells": [
    {
      "cell_type": "code",
      "execution_count": 1,
      "metadata": {
        "colab": {
          "base_uri": "https://localhost:8080/"
        },
        "id": "yHmCITBWTuMi",
        "outputId": "5465b52c-ddff-4615-cd48-69a3210d7247"
      },
      "outputs": [
        {
          "output_type": "stream",
          "name": "stdout",
          "text": [
            "['hr', 'gmail.com'] ['contact', 'gmail.com']\n",
            "True\n"
          ]
        }
      ],
      "source": [
        "# There are two mail adresses in a tuple called \"mails\". \n",
        "# Print each mail adresses's domain (@gmail.com etc.)\n",
        "# Check if the domain (@gmail.com etc.) of two mail adresses are the same.\n",
        "mails = (\"hr@gmail.com\", \"contact@gmail.com\")\n",
        "\n",
        "# Solution\n",
        "print(mails[0].split(\"@\"), mails[1].split(\"@\"))\n",
        "print(mails[0].split(\"@\")[-1] == mails[1].split(\"@\")[-1])"
      ]
    },
    {
      "cell_type": "code",
      "source": [
        "# Dictionary \"scores\" contains three different students grades.\n",
        "# Using \"scores\" dictionary, create dictionary called \"min_scores\", which keys are students and values are minimum grades\n",
        "scores = {\n",
        "    \"Elif\":[46,74,100],\n",
        "    \"Emirhan\":[48,90,89],\n",
        "    \"Ates\":[100,68,65]\n",
        "}\n",
        "\n",
        "# Solution\n",
        "min_scores = {\n",
        "    \"Elif\": min(scores[\"Elif\"]),\n",
        "    \"Emirhan\": min(scores[\"Emirhan\"]),\n",
        "    \"Ates\": min(scores[\"Ates\"])\n",
        "}\n",
        "\n",
        "print(min_scores)"
      ],
      "metadata": {
        "colab": {
          "base_uri": "https://localhost:8080/"
        },
        "id": "LPA0ZLZQUKF3",
        "outputId": "1318dc54-86f7-49d8-d36d-e1256861c862"
      },
      "execution_count": 4,
      "outputs": [
        {
          "output_type": "stream",
          "name": "stdout",
          "text": [
            "{'Elif': 46, 'Emirhan': 48, 'Ates': 65}\n"
          ]
        }
      ]
    },
    {
      "cell_type": "code",
      "source": [
        "# Dictionary items hold item ids as keys and properties as values\n",
        "# ids list contains product ids\n",
        "# Find the greatest id in ids list and print its stock value\n",
        "\n",
        "ids = [83,98,67]\n",
        "items = {\n",
        "    83 : {\n",
        "        \"stock\": 100,\n",
        "        \"price\": 89.08\n",
        "    },\n",
        "    98 : {\n",
        "        \"stock\": 7546,\n",
        "        \"price\": 23.12\n",
        "    },\n",
        "    67 : {\n",
        "        \"stock\": 0,\n",
        "        \"price\": 4.5\n",
        "    }\n",
        "}\n",
        "\n",
        "# Solution\n",
        "max_id = max(ids)\n",
        "print(items[max_id][\"stock\"])"
      ],
      "metadata": {
        "colab": {
          "base_uri": "https://localhost:8080/"
        },
        "id": "coPd9XqpUKDc",
        "outputId": "d5eb9a44-3bb1-4cf4-fd7f-a120e0b3d0ea"
      },
      "execution_count": 5,
      "outputs": [
        {
          "output_type": "stream",
          "name": "stdout",
          "text": [
            "7546\n"
          ]
        }
      ]
    },
    {
      "cell_type": "code",
      "source": [
        "# Dictionary items hold item ids as keys and properties as values\n",
        "# ids list contains product ids\n",
        "# find the smallest id in ids list and calculate max money you can get by selling all the stock\n",
        "# if you make 35% discount, calculate new result\n",
        "# print results in format \"Max Money: ... , With Discount: ...\"\n",
        "\n",
        "ids = [83,98,67]\n",
        "items = {\n",
        "    83 : {\n",
        "        \"stock\": 100,\n",
        "        \"price\": 89.08\n",
        "    },\n",
        "    98 : {\n",
        "        \"stock\": 7546,\n",
        "        \"price\": 23.12\n",
        "    },\n",
        "    67 : {\n",
        "        \"stock\": 1642,\n",
        "        \"price\": 4.5\n",
        "    }\n",
        "}\n",
        "\n",
        "# Solution\n",
        "min_id = min(ids)\n",
        "max_money = items[min_id][\"stock\"] * items[min_id][\"price\"]\n",
        "with_discount = items[min_id][\"stock\"] * (items[min_id][\"price\"]*.65)\n",
        "print(\"Max Money: {}, with Discount: {}\".format(max_money, with_discount))"
      ],
      "metadata": {
        "colab": {
          "base_uri": "https://localhost:8080/"
        },
        "id": "b5reUCl6UKBR",
        "outputId": "fa2f2722-475a-4d55-f9d6-1069fd447035"
      },
      "execution_count": 6,
      "outputs": [
        {
          "output_type": "stream",
          "name": "stdout",
          "text": [
            "Max Money: 7389.0, with Discount: 4802.85\n"
          ]
        }
      ]
    },
    {
      "cell_type": "code",
      "source": [
        "# Write a function that prints given dictionary's (\"students\")\n",
        "# key and value pairs as follows (you need to use for loop)\n",
        "# key : value\n",
        "students = {\n",
        "    \"student_id1\" : \"student_name1\",\n",
        "    \"student_id2\" : \"student_name2\",\n",
        "    \"student_id3\" : \"student_name3\",\n",
        "    \"student_id4\" : \"student_name4\",\n",
        "    \"student_id5\" : \"student_name5\"\n",
        "}\n",
        "\n",
        "def func4(students):\n",
        "    for student in students:\n",
        "        print(f\"{student} : {students[student]}\")\n",
        "\n",
        "func4(students)"
      ],
      "metadata": {
        "colab": {
          "base_uri": "https://localhost:8080/"
        },
        "id": "zyOwhSrTUJ-1",
        "outputId": "39e76a6f-21c9-42e9-cce8-6cb92e304031"
      },
      "execution_count": 7,
      "outputs": [
        {
          "output_type": "stream",
          "name": "stdout",
          "text": [
            "student_id1 : student_name1\n",
            "student_id2 : student_name2\n",
            "student_id3 : student_name3\n",
            "student_id4 : student_name4\n",
            "student_id5 : student_name5\n"
          ]
        }
      ]
    },
    {
      "cell_type": "code",
      "source": [
        "\"\"\"\n",
        "Use zip to write a for loop that creates a string \n",
        "specifying the label and coordinates of each point \n",
        "and appends it to the list points. Each string should be \n",
        "formatted as label: x, y, z. For example, \n",
        "the string for the first coordinate should be F: 23, 677, 4.\n",
        "\"\"\"\n",
        "\n",
        "x_coord = [23, 53, 2, -12, 95, 103, 14, -5]\n",
        "y_coord = [677, 233, 405, 433, 905, 376, 432, 445]\n",
        "z_coord = [4, 16, -6, -42, 3, -6, 23, -1]\n",
        "labels = [\"F\", \"J\", \"A\", \"Q\", \"Y\", \"B\", \"W\", \"X\"]\n",
        "\n",
        "points = []\n",
        "for point in zip(labels, x_coord, y_coord, z_coord):\n",
        "    points.append(\"{}: {}, {}, {}\".format(*point))\n",
        "\n",
        "\n",
        "for point in points:\n",
        "    print(point)"
      ],
      "metadata": {
        "id": "U3JeVWULUJ8X"
      },
      "execution_count": null,
      "outputs": []
    },
    {
      "cell_type": "code",
      "source": [
        "# Python program to print first 10\n",
        "# prime numbers\n",
        "# A function name prime is defined\n",
        "# using def\n",
        "\n",
        "def prime(n):\n",
        "    x = 1\n",
        "    count = 0\n",
        "    while count < n:\n",
        "        for d in range(2, x, 1):\n",
        "            if x % d == 0:\n",
        "                x += 1\n",
        "        else:\n",
        "            print(x)\n",
        "            x += 1\n",
        "            count += 1\n",
        " \n",
        "# Driver Code\n",
        "n = 10\n",
        " \n",
        "# print statement\n",
        "print(\"First 10 prime numbers are:  \")\n",
        "prime(n)"
      ],
      "metadata": {
        "id": "Q6g03QkZUJ21"
      },
      "execution_count": null,
      "outputs": []
    },
    {
      "cell_type": "code",
      "source": [
        "# Ask user's name with the use of def function.\n",
        "\n",
        "def asking_username():\n",
        "        print(\"What's your name? \")\n",
        "        username = input()\n",
        "        return username\n",
        "\n",
        "print(\"Hello, \" + asking_username().title() + \"!\")"
      ],
      "metadata": {
        "id": "oaWOhtKmUJxB"
      },
      "execution_count": null,
      "outputs": []
    },
    {
      "cell_type": "code",
      "source": [
        "# Write a lambda function that doubles its argument: lambda x: x*2, \n",
        "# and use it with the map function to double all elements in a list\n",
        "\n",
        "my_list = [1, 2, 3, 4, 5, 6]\n",
        "\n",
        "new_list = list(map(lambda x: x*2, my_list))\n",
        "print(new_list) # [2, 4, 6, 8, 10, 12]"
      ],
      "metadata": {
        "id": "7vh6zB_dUJms"
      },
      "execution_count": null,
      "outputs": []
    },
    {
      "cell_type": "code",
      "source": [
        "# Crete a \"Person\" class. Person object must have these variables: name, surname, age\n",
        "# You should specify these variables in a __init__ method.\n",
        "# Write a __call__ method which prints the all information of the person\n",
        "class Person(object):\n",
        "    def __init__(self, name, surname, age):\n",
        "        self.name = name\n",
        "        self.surname = surname\n",
        "        self.age = age\n",
        "\n",
        "    def __call__(self):\n",
        "        print(f\"{self.name}, {self.surname}, {self.age}\")\n",
        "\n",
        "# TEST YOUR CODE #\n",
        "person1 = Person(\"Elif\", \"Mutlu\", 20)\n",
        "person1()"
      ],
      "metadata": {
        "id": "km9n5VBaVnAL"
      },
      "execution_count": null,
      "outputs": []
    },
    {
      "cell_type": "code",
      "source": [
        "# Create a \"Student\" class whichs inherited from Person class\n",
        "# Additionaly Student object has a variable called \"grades\" which holds n exam results in a list\n",
        "# Write these methods for student class:\n",
        "## calculate_average: returns average of exam results\n",
        "## add_grade: adds input grade to \"grades\" object varible\n",
        "## num_of_grades: returns number of grades that student has\n",
        "## get_grades: prints all the grades of student\n",
        "## Write a call method to print all information about student\n",
        "## Write __eq__ method on average grades, if average of the grades are equal, we can consider student objects are equal\n",
        "\n",
        "class Student(Person):\n",
        "    def __init__(self, name, surname, age, grades):\n",
        "        super(Person, self).__init__()\n",
        "        Person.__init__(self, name, surname, age)\n",
        "\n",
        "        self.grades = grades\n",
        "\n",
        "    def __call__(self):\n",
        "        print(f\"Name: {self.name}, Surname: {self.surname}, Age: {self.age}, Grades: {self.get_grades()}\")\n",
        "\n",
        "    def __eq__(self, value):\n",
        "        return self.calculate_average() == value.calculate_average()\n",
        "\n",
        "    def calculate_average(self):\n",
        "        return sum(self.grades) / len(self.grades)\n",
        "\n",
        "    def add_grade(self, new_grade):\n",
        "        self.grades.append(new_grade)\n",
        "\n",
        "    def get_grades(self):\n",
        "        return self.grades\n",
        "\n",
        "    def num_of_grades(self):\n",
        "        return len(grades)\n",
        "\n",
        "# TEST YOUR CODE #\n",
        "\n",
        "student1 = Student(\"Merve\", \"Calisi\", 25, [10,20,30])\n",
        "student2 = Student(\"Fatma\",\"Gorsel\",17, [20,20,20])\n",
        "\n",
        "print(student1 == student2)\n",
        "\n",
        "print()\n",
        "\n",
        "print(student1)\n",
        "print(student1())\n",
        "print(student1.get_grades())\n",
        "print(\"Average Grades of student1:\", student1.calculate_average())\n",
        "print(\"Number of grades: \", student1.num_of_grades())\n",
        "\n",
        "print()\n",
        "\n",
        "student1.add_grade(100)\n",
        "print(student1.get_grades())\n",
        "print(\"Average Grades of student1:\", student1.calculate_average())\n",
        "print(\"Number of grades: \", student1.num_of_grades())\n",
        "\n",
        "# Call The Stuent\n",
        "print(student1())"
      ],
      "metadata": {
        "id": "SeMfiZIZVfjh"
      },
      "execution_count": null,
      "outputs": []
    },
    {
      "cell_type": "code",
      "source": [
        "# Write a function takes a list of students [student1, student2, ...]\n",
        "# Converts these students into a dictionary, key is the index and value is a another dict\n",
        "# contains name, surname, age, grades.\n",
        "# Save this. dictionary as a .JSON file\n",
        "import json\n",
        "from typing import List\n",
        "\n",
        "def create_json(students: List[Student]) -> None:\n",
        "    out = {}\n",
        "    for i, student in enumerate(students):\n",
        "        out[i] = {\n",
        "            \"name\": student.name,\n",
        "            \"surname\" : student.surname,\n",
        "            \"greades\": student.grades\n",
        "        }\n",
        "    \n",
        "    with open(\"out.json\", \"w\") as js:\n",
        "        js.write(json.dumps(out, indent=4))\n",
        "\n",
        "create_json([student1, student2])"
      ],
      "metadata": {
        "id": "nzbd0_njVfe2"
      },
      "execution_count": null,
      "outputs": []
    },
    {
      "cell_type": "code",
      "source": [
        "# Write a fuction that takes stuendt object and .json path (previously saved json for ex)\n",
        "# Add the student to this dictionary and save it again\n",
        "\n",
        "import json\n",
        "\n",
        "def update_json(json_path: str, new_student: Student):\n",
        "    with open(json_path, \"r\") as js:\n",
        "        out = json.loads(js.read())\n",
        "\n",
        "    keys = list(out.keys())\n",
        "    keys = [int(key) for key in keys]\n",
        "    max_key = max(keys)\n",
        "    current_index = max_key + 1\n",
        "\n",
        "    out[current_index] = {\n",
        "        \"name\": new_student.name,\n",
        "        \"surname\" : new_student.surname,\n",
        "        \"greades\": new_student.grades\n",
        "    }\n",
        "    \n",
        "    with open(\"out_updated.json\", \"w\") as js:\n",
        "        js.write(json.dumps(out, indent=4))\n",
        "\n",
        "new_student = Student(\"Deniz\", \"Gezer\", 32, [25,6,42])\n",
        "update_json(json_path=\"out.json\", new_student=new_student) "
      ],
      "metadata": {
        "id": "cLV4PGZhVfcg"
      },
      "execution_count": null,
      "outputs": []
    },
    {
      "cell_type": "code",
      "source": [
        "# Write a function that takes a template string and two lists.\n",
        "# Subsitude the name and grade then prints every substituted massege\n",
        "\n",
        "from string import Template\n",
        "\n",
        "def generate_sms(template, names, grades):\n",
        "    for name, grade in zip(names, grades):\n",
        "        print(template.substitute(name=name, grade=grade))\n",
        "\n",
        "temp = Template(\"Good moorning ${name}, your greade is ${grade}\")\n",
        "names = [\"Name1\",\"Name2\"]\n",
        "grades= [\"A\", \"B\"]\n",
        "\n",
        "generate_sms(temp, names, grades)"
      ],
      "metadata": {
        "id": "GNBWCTcJVfaH"
      },
      "execution_count": null,
      "outputs": []
    },
    {
      "cell_type": "code",
      "source": [
        "# Write a function debug() that takes in two sets, and makes a new set that contains the elements both sets have in common. \n",
        "# If \"bug\" is one of the elements, remove that from the new set. Return the new set.\n",
        "\n",
        "def debug(set1, set2):\n",
        "    return set1.intersection(set2) - {\"bug\"}\n",
        "\n",
        "print(debug({\"bug\", \"rice\", \"apple\"}, {\"rice\", \"bug\", \"sugar\"}))"
      ],
      "metadata": {
        "colab": {
          "base_uri": "https://localhost:8080/"
        },
        "id": "xW78ac0MVfXy",
        "outputId": "2098139b-2b1a-4fc5-97ca-3e2265afb2d2"
      },
      "execution_count": 8,
      "outputs": [
        {
          "output_type": "stream",
          "name": "stdout",
          "text": [
            "{'rice'}\n"
          ]
        }
      ]
    },
    {
      "cell_type": "code",
      "source": [
        "# Write Python code to check the given sequence is a palindrome or not?\n",
        "# Python code to check a given sequence is palindrome or not\n",
        "\n",
        "my_string1 = 'MOM'\n",
        "My_string1 = my_string1.casefold()\n",
        "\n",
        "# reverse the given string\n",
        "rev_string1  = reversed(my_string1)\n",
        "\n",
        "# check whether the string is equal to the reverse of it or not\n",
        "\n",
        "if list(my_string1) == list(rev_string1):\n",
        "    print(\"It is a palindrome\")\n",
        "else:\n",
        "    print(\"It is not a palindrome\")"
      ],
      "metadata": {
        "id": "FlQgA6kfVfQv"
      },
      "execution_count": null,
      "outputs": []
    },
    {
      "cell_type": "code",
      "source": [
        "# Import json library to use jsonStr\n",
        "# List the all type of batters\n",
        "# Print batters\n",
        "\n",
        "jsonStr = '''\n",
        "      {\n",
        "      \"id\": \"0001\",\n",
        "      \"type\": \"donut\",\n",
        "      \"name\": \"Cake\",\n",
        "      \"ppu\": 0.55,\n",
        "      \"batters\":\n",
        "        {\n",
        "          \"batter\":\n",
        "            [\n",
        "              { \"id\": \"1001\", \"type\": \"Regular\" },\n",
        "              { \"id\": \"1002\", \"type\": \"Chocolate\" },\n",
        "              { \"id\": \"1003\", \"type\": \"Blueberry\" },\n",
        "              { \"id\": \"1004\", \"type\": \"Devil's Food\" }\n",
        "            ]\n",
        "        },\n",
        "      \"topping\":\n",
        "        [\n",
        "          { \"id\": \"5001\", \"type\": \"None\" },\n",
        "          { \"id\": \"5002\", \"type\": \"Glazed\" },\n",
        "          { \"id\": \"5005\", \"type\": \"Sugar\" },\n",
        "          { \"id\": \"5007\", \"type\": \"Powdered Sugar\" },\n",
        "          { \"id\": \"5006\", \"type\": \"Chocolate with Sprinkles\" },\n",
        "          { \"id\": \"5003\", \"type\": \"Chocolate\" },\n",
        "          { \"id\": \"5004\", \"type\": \"Maple\" }\n",
        "        ]\n",
        "    }'''\n",
        "\n",
        "import json\n",
        "\n",
        "data = json.loads(jsonStr)\n",
        "\n",
        "batter = data[\"batters\"][\"batter\"]\n",
        "list = []\n",
        "\n",
        "for i in batter:\n",
        "  list.append(i[\"type\"])\n",
        "\n",
        "print(list)"
      ],
      "metadata": {
        "id": "S1jArhzSWCNX"
      },
      "execution_count": null,
      "outputs": []
    },
    {
      "cell_type": "code",
      "source": [
        "# Use Enum class for this task\n",
        "# You should keep the price of drinks in Enum\n",
        "\n",
        "#### Menu ####\n",
        "\"\"\"     TEA= 5\n",
        "        AMERICANO = 20\n",
        "        LATTE = 25\n",
        "        COLDBREW = 23\"\"\"\n",
        "# After creating Enum, you should find the sum all prices of drinks.\n",
        "# Print sum\n",
        "\n",
        "from enum import Enum\n",
        "\n",
        "class Menu(Enum):\n",
        "    # YOUR CODE HERE\n",
        "    TEA= 5\n",
        "    AMERICANO = 20\n",
        "    LATTE = 25\n",
        "    COLDBREW = 23\n",
        "\n",
        "sum = 0\n",
        "for i in Menu:\n",
        "  sum += i.value\n",
        "\n",
        "print(sum)"
      ],
      "metadata": {
        "id": "SadSPeX6WCI0"
      },
      "execution_count": null,
      "outputs": []
    }
  ]
}